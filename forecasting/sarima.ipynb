{
 "cells": [
  {
   "cell_type": "code",
   "execution_count": 1,
   "id": "666519ad-6b16-4a72-a204-32e2044e43d9",
   "metadata": {
    "editable": true,
    "slideshow": {
     "slide_type": ""
    },
    "tags": []
   },
   "outputs": [
    {
     "name": "stdout",
     "output_type": "stream",
     "text": [
      "/bin/bash: /root/miniconda3/lib/libtinfo.so.6: no version information available (required by /bin/bash)\n",
      "/bin/bash: /root/miniconda3/lib/libtinfo.so.6: no version information available (required by /bin/bash)\n",
      "\u001b[33mWARNING: Ignoring invalid distribution -umpy (/root/miniconda3/lib/python3.9/site-packages)\u001b[0m\n",
      "\u001b[33mWARNING: Ignoring invalid distribution -umpy (/root/miniconda3/lib/python3.9/site-packages)\u001b[0m\n",
      "Requirement already satisfied: matplotlib in /root/miniconda3/lib/python3.9/site-packages (3.9.0)\n",
      "Requirement already satisfied: numpy in /root/miniconda3/lib/python3.9/site-packages (1.26.4)\n",
      "Requirement already satisfied: pmdarima in /root/miniconda3/lib/python3.9/site-packages (2.0.4)\n",
      "Requirement already satisfied: sklearn in /root/miniconda3/lib/python3.9/site-packages (0.0.post7)\n",
      "Requirement already satisfied: statsmodels in /root/miniconda3/lib/python3.9/site-packages (0.14.2)\n",
      "Requirement already satisfied: pandas in /root/miniconda3/lib/python3.9/site-packages (1.4.4)\n",
      "Requirement already satisfied: plotly in /root/miniconda3/lib/python3.9/site-packages (5.16.1)\n",
      "Requirement already satisfied: contourpy>=1.0.1 in /root/miniconda3/lib/python3.9/site-packages (from matplotlib) (1.1.0)\n",
      "Requirement already satisfied: packaging>=20.0 in /root/miniconda3/lib/python3.9/site-packages (from matplotlib) (21.3)\n",
      "Requirement already satisfied: pyparsing>=2.3.1 in /root/miniconda3/lib/python3.9/site-packages (from matplotlib) (3.0.9)\n",
      "Requirement already satisfied: python-dateutil>=2.7 in /root/miniconda3/lib/python3.9/site-packages (from matplotlib) (2.8.2)\n",
      "Requirement already satisfied: pillow>=8 in /root/miniconda3/lib/python3.9/site-packages (from matplotlib) (10.0.0)\n",
      "Requirement already satisfied: kiwisolver>=1.3.1 in /root/miniconda3/lib/python3.9/site-packages (from matplotlib) (1.4.5)\n",
      "Requirement already satisfied: cycler>=0.10 in /root/miniconda3/lib/python3.9/site-packages (from matplotlib) (0.11.0)\n",
      "Requirement already satisfied: importlib-resources>=3.2.0 in /root/miniconda3/lib/python3.9/site-packages (from matplotlib) (6.0.1)\n",
      "Requirement already satisfied: fonttools>=4.22.0 in /root/miniconda3/lib/python3.9/site-packages (from matplotlib) (4.42.1)\n",
      "Requirement already satisfied: scipy>=1.3.2 in /root/miniconda3/lib/python3.9/site-packages (from pmdarima) (1.10.1)\n",
      "Requirement already satisfied: joblib>=0.11 in /root/miniconda3/lib/python3.9/site-packages (from pmdarima) (1.3.2)\n",
      "Requirement already satisfied: Cython!=0.29.18,!=0.29.31,>=0.29 in /root/miniconda3/lib/python3.9/site-packages (from pmdarima) (3.0.2)\n",
      "Requirement already satisfied: setuptools!=50.0.0,>=38.6.0 in /root/miniconda3/lib/python3.9/site-packages (from pmdarima) (61.2.0)\n",
      "Requirement already satisfied: scikit-learn>=0.22 in /root/miniconda3/lib/python3.9/site-packages (from pmdarima) (1.3.0)\n",
      "Requirement already satisfied: urllib3 in /root/miniconda3/lib/python3.9/site-packages (from pmdarima) (1.26.8)\n",
      "Requirement already satisfied: patsy>=0.5.6 in /root/miniconda3/lib/python3.9/site-packages (from statsmodels) (0.5.6)\n",
      "Requirement already satisfied: pytz>=2020.1 in /root/miniconda3/lib/python3.9/site-packages (from pandas) (2022.1)\n",
      "Requirement already satisfied: tenacity>=6.2.0 in /root/miniconda3/lib/python3.9/site-packages (from plotly) (8.2.3)\n",
      "Requirement already satisfied: zipp>=3.1.0 in /root/miniconda3/lib/python3.9/site-packages (from importlib-resources>=3.2.0->matplotlib) (3.8.0)\n",
      "Requirement already satisfied: six in /root/miniconda3/lib/python3.9/site-packages (from patsy>=0.5.6->statsmodels) (1.15.0)\n",
      "Requirement already satisfied: threadpoolctl>=2.0.0 in /root/miniconda3/lib/python3.9/site-packages (from scikit-learn>=0.22->pmdarima) (3.2.0)\n",
      "\u001b[33mWARNING: Ignoring invalid distribution -umpy (/root/miniconda3/lib/python3.9/site-packages)\u001b[0m\n",
      "\u001b[33mWARNING: Running pip as the 'root' user can result in broken permissions and conflicting behaviour with the system package manager. It is recommended to use a virtual environment instead: https://pip.pypa.io/warnings/venv\u001b[0m\n",
      "\u001b[33mWARNING: Ignoring invalid distribution -umpy (/root/miniconda3/lib/python3.9/site-packages)\u001b[0m\n",
      "\u001b[33mWARNING: Ignoring invalid distribution -umpy (/root/miniconda3/lib/python3.9/site-packages)\u001b[0m\n",
      "\u001b[33mWARNING: Ignoring invalid distribution -umpy (/root/miniconda3/lib/python3.9/site-packages)\u001b[0m\n"
     ]
    }
   ],
   "source": [
    "!source ~/miniconda3/bin/activate sarimax\n",
    "!pip install matplotlib numpy pmdarima sklearn statsmodels pandas plotly"
   ]
  },
  {
   "cell_type": "code",
   "execution_count": 10,
   "id": "5306382b-8d3c-45a9-ac9d-b3d27408b919",
   "metadata": {},
   "outputs": [],
   "source": [
    "import pickle\n",
    "import numpy as np\n",
    "import statsmodels.api as sm\n",
    "from matplotlib import pyplot as plt\n",
    "from pmdarima import auto_arima\n",
    "from sklearn.metrics import mean_absolute_error, mean_squared_error\n",
    "from statsmodels.graphics.tsaplots import plot_acf, plot_pacf\n",
    "from statsmodels.tsa.stattools import kpss\n",
    "import matplotlib.dates as mdates\n",
    "import pandas as pd\n",
    "from statsmodels.tsa.stattools import adfuller\n",
    "from plotly import graph_objs as go\n",
    "from pmdarima.arima.utils import ndiffs\n",
    "import logging\n",
    "from pmdarima.arima import StepwiseContext\n",
    "from data_util_common import train_val_test_split, show_box, show_result\n",
    "import time"
   ]
  },
  {
   "cell_type": "code",
   "execution_count": 3,
   "id": "540228a8-a632-4e6b-935c-b5908c011fde",
   "metadata": {
    "editable": true,
    "slideshow": {
     "slide_type": ""
    },
    "tags": []
   },
   "outputs": [],
   "source": [
    "\n",
    "def check_stationary(data, lags):\n",
    "    rolling_mean = data.rolling(window=lags).mean().dropna()\n",
    "    rolling_std = data.rolling(window=lags).std()\n",
    "    plt.plot(data, color='blue', label='Original')\n",
    "    plt.plot(rolling_mean, color='red', label='Rolling Mean')\n",
    "    plt.plot(rolling_std, color='black', label='Rolling Std')\n",
    "    plt.legend(loc='best')\n",
    "    dtFmt = mdates.DateFormatter('%Y-%b')  # define the formatting\n",
    "    plt.gca().xaxis.set_major_formatter(dtFmt)\n",
    "    plt.gca().xaxis.set_major_locator(mdates.MonthLocator(interval=1))\n",
    "    plt.xticks(rotation=0, fontweight='light', fontsize='x-small')\n",
    "    plt.title('Rolling Mean & Rolling Standard Deviation')\n",
    "    plt.show()\n",
    "\n",
    "\n",
    "def kpss_test(series, **kw):\n",
    "    statistic, p_value, n_lags, critical_values = kpss(series, **kw)\n",
    "    print(\n",
    "        'KPSS checks for stochastic trend (e.g., which does not have a constant variance throughout time) stationary.')\n",
    "    print(f'KPSS Statistic: {statistic}')\n",
    "    print(f'p-value: {p_value}')\n",
    "    print(f'num lags: {n_lags}')\n",
    "    print('Critical Values:')\n",
    "    for key, value in critical_values.items():\n",
    "        print(f'   {key} : {value}')\n",
    "    print(f'Result: The series is {\"not \" if p_value < 0.05 else \"\"}stationary')\n",
    "    if p_value < 0.05:\n",
    "        n_kpss = ndiffs(series, test='kpss')\n",
    "        print(f'N steps required for differencing: {n_kpss}')\n",
    "    print()\n",
    "\n",
    "\n",
    "def adf_test(series, **kw):\n",
    "    result = adfuller(series, **kw)\n",
    "    print('ADF checks for unit root presence.')\n",
    "    print('ADF Statistic: {}'.format(result[0]))\n",
    "    print('p-value: {}'.format(result[1]))\n",
    "    print(f'num lags: {result[2]}')\n",
    "    print('Critical Values:')\n",
    "    for key, value in result[4].items():\n",
    "        print('\\t{}: {}'.format(key, value))\n",
    "    print(f'Result: The series is {\"not \" if result[1] > 0.05 else \"\"} stationary')\n",
    "    if result[1] > 0.05:\n",
    "        n_adf = ndiffs(series, test='adf')\n",
    "        print(f'N steps required for differencing: {n_adf}')\n",
    "    print()\n",
    "\n",
    "\n",
    "def differencing(data, periods):\n",
    "    data_diff = data.diff(periods)\n",
    "    data_diff.dropna(inplace=True)\n",
    "    return data_diff\n",
    "\n",
    "\n",
    "def remove_seasonality(data, lag):\n",
    "    seasonal_diff = data - data.shift(lag)\n",
    "    seasonal_diff = seasonal_diff.dropna(inplace=False)\n",
    "    return seasonal_diff\n",
    "    \n",
    "def canopy_dataset():\n",
    "    filename = 'data/NIST_Canopy_2015_2018_interpolated.csv'\n",
    "    label = 'ACP_kW'\n",
    "    data = pd.read_csv(filename, sep=',')\n",
    "    data['TIMESTAMP'] = pd.to_datetime(data['TIMESTAMP'], format='%Y-%m-%d %H:%M:%S')\n",
    "    data.set_index(data['TIMESTAMP'], drop=True, inplace=True)\n",
    "    # data = filter_data(data, \"2015-01-01\", \"2018-01-01\")\n",
    "\n",
    "    data[label] = data[label].astype(float)\n",
    "    date = [x.strftime('%Y-%m-%d') for x in pd.to_datetime(data.index).date]\n",
    "    #time = [x.strftime('%H:%M:%S') for x in pd.to_datetime(data.index).time]\n",
    "\n",
    "    print(data.columns)\n",
    "    print(\"Correlation ----------------------------------------------------------------------------------------------\")\n",
    "    corr_data = data.drop(columns=[label, 'season']).corrwith(data[label])\n",
    "    print(corr_data)\n",
    "\n",
    "    # pv_per_hour = data[[label]].copy()\n",
    "    # pv_per_hour['Time'] = time\n",
    "    # pv_per_hour = pv_per_hour.groupby(\"Time\").agg({label: list}).reset_index()\n",
    "    # pv_per_hour = pv_per_hour.drop(columns=[\"Time\"])\n",
    "    # show_box(pv_per_hour, label, \"Energy distribution per hour\", \"Time [h]\", \"Energy [Wh]\")\n",
    "    # del pv_per_hour\n",
    "    return data, date, label"
   ]
  },
  {
   "cell_type": "code",
   "execution_count": 4,
   "id": "7e75348d-4e03-45e1-91ed-b973f775bb4b",
   "metadata": {
    "editable": true,
    "scrolled": true,
    "slideshow": {
     "slide_type": ""
    },
    "tags": []
   },
   "outputs": [
    {
     "name": "stdout",
     "output_type": "stream",
     "text": [
      "Index(['TIMESTAMP', 'ACP_kW', 'Irradiance_1_Wm2', 'Temp_C', 'WindSpeed_ms',\n",
      "       'season'],\n",
      "      dtype='object')\n",
      "Correlation ----------------------------------------------------------------------------------------------\n",
      "Irradiance_1_Wm2    0.983247\n",
      "Temp_C              0.346290\n",
      "WindSpeed_ms        0.348792\n",
      "dtype: float64\n",
      "**AUTOCORRELATION ** -------------------------------------------------------------------------------------\n",
      "The autocorrelation fu nction (ACF) assesses the correlation between observations in a time series for a\n",
      "set of lags. In an ACF plot, each bar represents the size and direction of the correlation. Bars that\n",
      "extend across the light blue area are statistically significant. When seasonal patterns are present,\n",
      "the autocorrelations are larger for lags at multiples of the seasonal frequency than for other lags.\n"
     ]
    },
    {
     "data": {
      "image/png": "[encoded data removed]",
      "text/plain": [
       "<Figure size 640x480 with 1 Axes>"
      ]
     },
     "metadata": {},
     "output_type": "display_data"
    },
    {
     "name": "stdout",
     "output_type": "stream",
     "text": [
      "The partial autocorrelation function is similar to the ACF except that it displays only the correlation\n",
      "between two observations that the shorter lags between those observations do not explain. The most \n",
      "statistically significant lags suggests the order of a autoregressive model\n"
     ]
    },
    {
     "data": {
      "image/png": "[encoded data removed]",
      "text/plain": [
       "<Figure size 640x480 with 1 Axes>"
      ]
     },
     "metadata": {},
     "output_type": "display_data"
    },
    {
     "name": "stdout",
     "output_type": "stream",
     "text": [
      "** STATIONARITY ** ---------------------------------------------------------------------------------------\n",
      "ADF checks for unit root presence.\n",
      "ADF Statistic: -16.52357884136261\n",
      "p-value: 0.0\n",
      "num lags: 24\n",
      "Critical Values:\n",
      "\t1%: -3.959028395257678\n",
      "\t5%: -3.4106153077405468\n",
      "\t10%: -3.127123795257749\n",
      "Result: The series is  stationary\n",
      "\n",
      "KPSS checks for stochastic trend (e.g., which does not have a constant variance throughout time) stationary.\n",
      "KPSS Statistic: 1.1465991735914305\n",
      "p-value: 0.01\n",
      "num lags: 24\n",
      "Critical Values:\n",
      "   10% : 0.119\n",
      "   5% : 0.146\n",
      "   2.5% : 0.176\n",
      "   1% : 0.216\n",
      "Result: The series is not stationary\n",
      "N steps required for differencing: 1\n",
      "\n",
      "** TRAINING ** -------------------------------------------------------------------------------------------\n",
      "DATA LEN 35064\n",
      "****************************************\n",
      "2018-03-14 19:00:00 - 19\n",
      "80% - End idx: 28032 - LEN 28032\n",
      "2018-03-14 00:00:00\n",
      "****************************************\n",
      "2018-12-31 05:00:00 - 5\n",
      "20% - End idx: 35040 - LEN 7008\n",
      "2018-12-31 00:00:00\n",
      "****************************************\n",
      "TRAIN SIZE 28032 TEST SIZE 7032\n",
      "SARMAX fitting.....\n"
     ]
    },
    {
     "name": "stderr",
     "output_type": "stream",
     "text": [
      "/tmp/ipykernel_236415/4157623768.py:17: InterpolationWarning: The test statistic is outside of the range of p-values available in the\n",
      "look-up table. The actual p-value is smaller than the p-value returned.\n",
      "\n",
      "  statistic, p_value, n_lags, critical_values = kpss(series, **kw)\n"
     ]
    },
    {
     "name": "stdout",
     "output_type": "stream",
     "text": [
      "RUNNING THE L-BFGS-B CODE\n",
      "\n",
      "           * * *\n",
      "\n",
      "Machine precision = 2.220D-16\n",
      " N =            8     M =           10\n",
      "\n",
      "At X0         0 variables are exactly at the bounds\n",
      "\n",
      "At iterate    0    f=  7.00569D+00    |proj g|=  2.03597D-01\n"
     ]
    },
    {
     "name": "stderr",
     "output_type": "stream",
     "text": [
      " This problem is unconstrained.\n"
     ]
    },
    {
     "name": "stdout",
     "output_type": "stream",
     "text": [
      "\n",
      "At iterate    5    f=  6.96179D+00    |proj g|=  3.13006D-02\n",
      "\n",
      "At iterate   10    f=  6.95344D+00    |proj g|=  1.93763D-02\n",
      "\n",
      "At iterate   15    f=  6.94934D+00    |proj g|=  3.48880D-03\n",
      "\n",
      "At iterate   20    f=  6.94891D+00    |proj g|=  7.21350D-04\n",
      "\n",
      "At iterate   25    f=  6.94822D+00    |proj g|=  3.92827D-03\n",
      "\n",
      "At iterate   30    f=  6.94534D+00    |proj g|=  1.73846D-02\n",
      "\n",
      "At iterate   35    f=  6.93955D+00    |proj g|=  2.64435D-02\n",
      "\n",
      "At iterate   40    f=  6.93764D+00    |proj g|=  4.49122D-04\n",
      "\n",
      "At iterate   45    f=  6.93762D+00    |proj g|=  1.58749D-04\n",
      "\n",
      "           * * *\n",
      "\n",
      "Tit   = total number of iterations\n",
      "Tnf   = total number of function evaluations\n",
      "Tnint = total number of segments explored during Cauchy searches\n",
      "Skip  = number of BFGS updates skipped\n",
      "Nact  = number of active bounds at final generalized Cauchy point\n",
      "Projg = norm of the final projected gradient\n",
      "F     = final function value\n",
      "\n",
      "           * * *\n",
      "\n",
      "   N    Tit     Tnf  Tnint  Skip  Nact     Projg        F\n",
      "    8     47     57      1     0     0   2.453D-05   6.938D+00\n",
      "  F =   6.9376201458762745     \n",
      "\n",
      "CONVERGENCE: REL_REDUCTION_OF_F_<=_FACTR*EPSMCH             \n",
      "FITTING TIME[s]: 362.0091669559479\n",
      "SARMAX eval.....\n",
      "EVAL TIME[s]: 0.3918488025665283\n",
      "** TESTING ** --------------------------------------------------------------------------------------------\n",
      "                                      SARIMAX Results                                       \n",
      "============================================================================================\n",
      "Dep. Variable:                               ACP_kW   No. Observations:                28032\n",
      "Model:             SARIMAX(2, 0, 2)x(1, 0, [1], 24)   Log Likelihood             -194475.368\n",
      "Date:                              Tue, 18 Jun 2024   AIC                         388966.736\n",
      "Time:                                      08:53:28   BIC                         389032.665\n",
      "Sample:                                           0   HQIC                        388987.958\n",
      "                                            - 28032                                         \n",
      "Covariance Type:                             approx                                         \n",
      "====================================================================================\n",
      "                       coef    std err          z      P>|z|      [0.025      0.975]\n",
      "------------------------------------------------------------------------------------\n",
      "Irradiance_1_Wm2    12.1806      0.024    507.840      0.000      12.134      12.228\n",
      "ar.L1                1.3912      0.022     62.466      0.000       1.348       1.435\n",
      "ar.L2               -0.5329      0.018    -30.339      0.000      -0.567      -0.498\n",
      "ma.L1               -0.4060      0.023    -17.835      0.000      -0.451      -0.361\n",
      "ma.L2                0.0574      0.009      6.313      0.000       0.040       0.075\n",
      "ar.S.L24             0.9784      0.002    468.504      0.000       0.974       0.983\n",
      "ma.S.L24            -0.8683      0.006   -146.250      0.000      -0.880      -0.857\n",
      "sigma2            6.211e+04    524.699    118.380      0.000    6.11e+04    6.31e+04\n",
      "===================================================================================\n",
      "Ljung-Box (L1) (Q):                   0.00   Jarque-Bera (JB):           9565505.85\n",
      "Prob(Q):                              0.95   Prob(JB):                         0.00\n",
      "Heteroskedasticity (H):               0.77   Skew:                            -0.39\n",
      "Prob(H) (two-sided):                  0.00   Kurtosis:                        93.49\n",
      "===================================================================================\n",
      "\n",
      "Warnings:\n",
      "[1] Covariance matrix calculated using numerical (complex-step) differentiation.\n",
      "LOOKBACK\n",
      "MAE: 905.6491085750854 \n",
      "SARIMA\n",
      "MAE: 219.3862945243711 \n"
     ]
    },
    {
     "ename": "TypeError",
     "evalue": "show_result() takes 4 positional arguments but 5 were given",
     "output_type": "error",
     "traceback": [
      "\u001b[0;31m---------------------------------------------------------------------------\u001b[0m",
      "\u001b[0;31mTypeError\u001b[0m                                 Traceback (most recent call last)",
      "Cell \u001b[0;32mIn[4], line 116\u001b[0m\n\u001b[1;32m    114\u001b[0m results\u001b[38;5;241m.\u001b[39mindex \u001b[38;5;241m=\u001b[39m date_time[train_size:]\n\u001b[1;32m    115\u001b[0m results\u001b[38;5;241m.\u001b[39mto_csv(\u001b[38;5;124m\"\u001b[39m\u001b[38;5;124msarima/results.csv\u001b[39m\u001b[38;5;124m\"\u001b[39m, sep\u001b[38;5;241m=\u001b[39m\u001b[38;5;124m\"\u001b[39m\u001b[38;5;124m,\u001b[39m\u001b[38;5;124m\"\u001b[39m)\n\u001b[0;32m--> 116\u001b[0m \u001b[43mshow_result\u001b[49m\u001b[43m(\u001b[49m\u001b[43mresults\u001b[49m\u001b[43m,\u001b[49m\u001b[43m \u001b[49m\u001b[38;5;124;43m\"\u001b[39;49m\u001b[38;5;124;43mSARIMAX forecasting\u001b[39;49m\u001b[38;5;124;43m\"\u001b[39;49m\u001b[43m,\u001b[49m\u001b[43m \u001b[49m\u001b[38;5;124;43m\"\u001b[39;49m\u001b[38;5;124;43mTime [h]\u001b[39;49m\u001b[38;5;124;43m\"\u001b[39;49m\u001b[43m,\u001b[49m\u001b[43m \u001b[49m\u001b[38;5;124;43m\"\u001b[39;49m\u001b[38;5;124;43mEnergy [Wh]\u001b[39;49m\u001b[38;5;124;43m\"\u001b[39;49m\u001b[43m,\u001b[49m\u001b[43m \u001b[49m\u001b[38;5;124;43m'\u001b[39;49m\u001b[38;5;124;43msarima/sarima_results.html\u001b[39;49m\u001b[38;5;124;43m'\u001b[39;49m\u001b[43m)\u001b[49m\n\u001b[1;32m    118\u001b[0m logging\u001b[38;5;241m.\u001b[39minfo(\u001b[38;5;124m\"\u001b[39m\u001b[38;5;124mSAVING MODEL....\u001b[39m\u001b[38;5;124m\"\u001b[39m)\n\u001b[1;32m    119\u001b[0m \u001b[38;5;28;01mwith\u001b[39;00m \u001b[38;5;28mopen\u001b[39m(\u001b[38;5;124m'\u001b[39m\u001b[38;5;124msarima.pkl\u001b[39m\u001b[38;5;124m'\u001b[39m, \u001b[38;5;124m'\u001b[39m\u001b[38;5;124mwb\u001b[39m\u001b[38;5;124m'\u001b[39m) \u001b[38;5;28;01mas\u001b[39;00m pkl:\n",
      "\u001b[0;31mTypeError\u001b[0m: show_result() takes 4 positional arguments but 5 were given"
     ]
    }
   ],
   "source": [
    "\n",
    "pd.set_option('display.max_columns', None)\n",
    "format = \"%Y-%m-d\"\n",
    "T = 24\n",
    "data, date, _, label = canopy_dataset()\n",
    "features = ['Irradiance_1_Wm2']\n",
    "data = data[[label] + features]\n",
    "\n",
    "date_time = data.index\n",
    "data = data.reset_index(drop=True)\n",
    "\n",
    "# data = differencing(data, 1)\n",
    "# data = remove_seasonality(data, 24)\n",
    "\n",
    "print(\"**AUTOCORRELATION ** -------------------------------------------------------------------------------------\")\n",
    "# px.line(x=data.index, y=data[label], labels={'x': 'Time', 'y': label}).show()\n",
    "# show_result(data, 'PV plant production', 'Time', label)\n",
    "\n",
    "print(\"The autocorrelation fu nction (ACF) assesses the correlation between observations in a time series for a\\n\"\n",
    "      \"set of lags. In an ACF plot, each bar represents the size and direction of the correlation. Bars that\\n\"\n",
    "      \"extend across the light blue area are statistically significant. When seasonal patterns are present,\\n\"\n",
    "      \"the autocorrelations are larger for lags at multiples of the seasonal frequency than for other lags.\")\n",
    "plot_acf(data[label], lags=T)\n",
    "plt.show()\n",
    "\n",
    "print(\"The partial autocorrelation function is similar to the ACF except that it displays only the correlation\\n\"\n",
    "      \"between two observations that the shorter lags between those observations do not explain. The most \\n\"\n",
    "      \"statistically significant lags suggests the order of a autoregressive model\")\n",
    "\n",
    "plot_pacf(data[label], lags=T)\n",
    "plt.show()\n",
    "\n",
    "print(\"** STATIONARITY ** ---------------------------------------------------------------------------------------\")\n",
    "# check_stationary(data, lags)\n",
    "adf_test(data[label], maxlag=T, autolag=None, regression='ct')\n",
    "kpss_test(data[label], nlags=T, regression='ct')\n",
    "\n",
    "print(\"** TRAINING ** -------------------------------------------------------------------------------------------\")\n",
    "# Create the SARIMA model\n",
    "# p: The number of lag observations included in the model, also called the lag order.\n",
    "# d: The number of times that the raw observations are differenced, also called the degree of differencing.\n",
    "# q: The size of the moving average window, also called the order of moving average.\n",
    "\n",
    "# The (P,D,Q,M) Order refers to the seasonal component of the model for the Auto Regressive parameters,\n",
    "# differences, Moving Average parameters, and periodicity: D indicates the integration order of the seasonal\n",
    "# process (the number of transformation needed to make stationary the time series). P indicates the Auto\n",
    "# Regressive order for the seasonal component. Q indicated the Moving Average order for the seasonal component. M\n",
    "# indicates the periodicity, i.e. the number of periods in season, such as 12 for monthly data.\n",
    "\n",
    "\n",
    "split = train_val_test_split(date_time, percentage=[80, 20])\n",
    "train = data[label][:split[0]]\n",
    "test = data[label][split[0]:].values\n",
    "exogenous_train = data[features][:split[0]]\n",
    "exogenous_test = data[features][split[0]:].values\n",
    "test_size = len(test)\n",
    "train_size = len(train)\n",
    "print(f\"TRAIN SIZE {train_size} TEST SIZE {test_size}\")\n",
    "\n",
    "# EXOGENOUS DATA\n",
    "sarima=None\n",
    "param_search=False\n",
    "if param_search:\n",
    "    with StepwiseContext(max_dur=30):\n",
    "        sarima = auto_arima(train.values,\n",
    "                            X=exogenous_train,\n",
    "                            test='adf',\n",
    "                            d=None,\n",
    "                            seasonal=True,\n",
    "                            D=None,\n",
    "                            m=T,\n",
    "                            trace=True,\n",
    "                            error_action='ignore',\n",
    "                            suppress_warnings=True,\n",
    "                            approximation=True,\n",
    "                            stepwise=True,\n",
    "                            maxiter=20,\n",
    "                            method='cg',\n",
    "                            )\n",
    "    \n",
    "    predictions = abs(sarima.predict(n_periods=len(test), X=exogenous_test))\n",
    "else:\n",
    "    # MANUAL SARIMA\n",
    "    order = (2, 0, 2)  # (p, d, q)\n",
    "    seasonal_order = (1, 0, 1, T)  # (P, D, Q, s)\n",
    "\n",
    "    print(\"SARMAX fitting.....\")\n",
    "    start_time = time.time()\n",
    "    sarima = sm.tsa.SARIMAX(endog=train,\n",
    "                                exog=exogenous_train,\n",
    "                                order=order,\n",
    "                              seasonal_order=seasonal_order\n",
    "                              ).fit(low_memory=True)\n",
    "    end_time = time.time()\n",
    "    print(f\"FITTING TIME[s]: {end_time-start_time}\")\n",
    "\n",
    "    print(\"SARMAX eval.....\")\n",
    "    start_time = time.time()\n",
    "    predictions = sarima.predict(\n",
    "            exog=exogenous_test,\n",
    "            start=train_size, end=train_size+test_size-1)\n",
    "    end_time = time.time()\n",
    "    print(f\"EVAL TIME[s]: {end_time-start_time}\")\n",
    "\n",
    "print(\"** TESTING ** --------------------------------------------------------------------------------------------\")\n",
    "print(sarima.summary())\n",
    "\n",
    "print(f\"LOOKBACK\\n\"\n",
    "      f\"MAE: {mean_absolute_error(test, data[label].values[train_size - T:-T])} \")\n",
    "\n",
    "print(f\"SARIMA\\n\"\n",
    "      f\"MAE: {mean_absolute_error(test, predictions)} \")\n",
    "\n",
    "results = pd.DataFrame().from_dict({\"Y_True\": test, \"Y_Pred\": predictions})\n",
    "results.index = date_time[train_size:]\n",
    "results.to_csv(\"sarima/results.csv\", sep=\",\")\n",
    "show_result(results, \"SARIMAX forecasting\", \"Time [h]\", \"Energy [Wh]\", 'sarima/sarima_results.html')\n",
    "\n",
    "logging.info(\"SAVING MODEL....\")\n",
    "with open('sarima.pkl', 'wb') as pkl:\n",
    "    pickle.dump(sarima, pkl)\n",
    "logging.info(\"Done.\\n\")"
   ]
  },
  {
   "cell_type": "code",
   "execution_count": 13,
   "id": "e99b60b3-e8c1-40a5-9241-4fd120077fa8",
   "metadata": {
    "editable": true,
    "slideshow": {
     "slide_type": ""
    },
    "tags": []
   },
   "outputs": [
    {
     "name": "stdout",
     "output_type": "stream",
     "text": [
      "ONE DAY SARMAX eval.....\n",
      "EVAL TIME[s]: 0.0041697025299072266\n",
      "                       Y_True       Y_Pred\n",
      "TIMESTAMP                                 \n",
      "2015-01-01 00:00:00     0.000     0.000000\n",
      "2015-01-01 01:00:00     0.000     0.000000\n",
      "2015-01-01 02:00:00     0.000     0.000000\n",
      "2015-01-01 03:00:00     0.000     0.000000\n",
      "2015-01-01 04:00:00     0.000     0.000000\n",
      "2015-01-01 05:00:00     0.000     0.000000\n",
      "2015-01-01 06:00:00    29.953     0.000000\n",
      "2015-01-01 07:00:00  1478.744    85.968084\n",
      "2015-01-01 08:00:00  4976.130   687.842323\n",
      "2015-01-01 09:00:00  7151.130  2753.550190\n",
      "2015-01-01 10:00:00  5632.780  5152.431362\n",
      "2015-01-01 11:00:00  6466.900  6459.935005\n",
      "2015-01-01 12:00:00  6161.190  6603.277909\n",
      "2015-01-01 13:00:00  6476.270  6128.758944\n",
      "2015-01-01 14:00:00  6453.720  4350.895621\n",
      "2015-01-01 15:00:00  4299.940  2160.907841\n",
      "2015-01-01 16:00:00  2388.050  -475.639847\n",
      "2015-01-01 17:00:00   322.110  -116.012204\n",
      "2015-01-01 18:00:00     0.024    42.139754\n",
      "2015-01-01 19:00:00     0.000    23.690397\n",
      "2015-01-01 20:00:00     0.000     7.175036\n",
      "2015-01-01 21:00:00     0.000     1.551821\n",
      "2015-01-01 22:00:00     0.000     0.220450\n",
      "2015-01-01 23:00:00     0.000     0.000856\n"
     ]
    },
    {
     "data": {
      "application/vnd.plotly.v1+json": {
       "config": {
        "plotlyServerURL": "https://plot.ly"
       },
       "data": [
        {
         "name": "Y_True",
         "opacity": 0.7,
         "type": "bar",
         "x": [
          "2015-01-01T00:00:00",
          "2015-01-01T01:00:00",
          "2015-01-01T02:00:00",
          "2015-01-01T03:00:00",
          "2015-01-01T04:00:00",
          "2015-01-01T05:00:00",
          "2015-01-01T06:00:00",
          "2015-01-01T07:00:00",
          "2015-01-01T08:00:00",
          "2015-01-01T09:00:00",
          "2015-01-01T10:00:00",
          "2015-01-01T11:00:00",
          "2015-01-01T12:00:00",
          "2015-01-01T13:00:00",
          "2015-01-01T14:00:00",
          "2015-01-01T15:00:00",
          "2015-01-01T16:00:00",
          "2015-01-01T17:00:00",
          "2015-01-01T18:00:00",
          "2015-01-01T19:00:00",
          "2015-01-01T20:00:00",
          "2015-01-01T21:00:00",
          "2015-01-01T22:00:00",
          "2015-01-01T23:00:00"
         ],
         "y": [
          0,
          0,
          0,
          0,
          0,
          0,
          29.953,
          1478.744,
          4976.13,
          7151.13,
          5632.78,
          6466.9,
          6161.19,
          6476.27,
          6453.72,
          4299.94,
          2388.05,
          322.11,
          0.024,
          0,
          0,
          0,
          0,
          0
         ]
        },
        {
         "name": "Y_Pred",
         "opacity": 0.7,
         "type": "bar",
         "x": [
          "2015-01-01T00:00:00",
          "2015-01-01T01:00:00",
          "2015-01-01T02:00:00",
          "2015-01-01T03:00:00",
          "2015-01-01T04:00:00",
          "2015-01-01T05:00:00",
          "2015-01-01T06:00:00",
          "2015-01-01T07:00:00",
          "2015-01-01T08:00:00",
          "2015-01-01T09:00:00",
          "2015-01-01T10:00:00",
          "2015-01-01T11:00:00",
          "2015-01-01T12:00:00",
          "2015-01-01T13:00:00",
          "2015-01-01T14:00:00",
          "2015-01-01T15:00:00",
          "2015-01-01T16:00:00",
          "2015-01-01T17:00:00",
          "2015-01-01T18:00:00",
          "2015-01-01T19:00:00",
          "2015-01-01T20:00:00",
          "2015-01-01T21:00:00",
          "2015-01-01T22:00:00",
          "2015-01-01T23:00:00"
         ],
         "y": [
          0,
          0,
          0,
          0,
          0,
          0,
          0,
          85.96808444078323,
          687.8423228936963,
          2753.550190468197,
          5152.431361795108,
          6459.935005395868,
          6603.277908852895,
          6128.758944460905,
          4350.895621212323,
          2160.907841248367,
          -475.63984727205064,
          -116.01220424053724,
          42.139754005927585,
          23.69039671258337,
          7.1750355539322435,
          1.5518209284249314,
          0.22044981315739615,
          0.000856274098666471
         ]
        }
       ],
       "layout": {
        "autosize": true,
        "barmode": "overlay",
        "template": {
         "data": {
          "bar": [
           {
            "error_x": {
             "color": "#2a3f5f"
            },
            "error_y": {
             "color": "#2a3f5f"
            },
            "marker": {
             "line": {
              "color": "#E5ECF6",
              "width": 0.5
             },
             "pattern": {
              "fillmode": "overlay",
              "size": 10,
              "solidity": 0.2
             }
            },
            "type": "bar"
           }
          ],
          "barpolar": [
           {
            "marker": {
             "line": {
              "color": "#E5ECF6",
              "width": 0.5
             },
             "pattern": {
              "fillmode": "overlay",
              "size": 10,
              "solidity": 0.2
             }
            },
            "type": "barpolar"
           }
          ],
          "carpet": [
           {
            "aaxis": {
             "endlinecolor": "#2a3f5f",
             "gridcolor": "white",
             "linecolor": "white",
             "minorgridcolor": "white",
             "startlinecolor": "#2a3f5f"
            },
            "baxis": {
             "endlinecolor": "#2a3f5f",
             "gridcolor": "white",
             "linecolor": "white",
             "minorgridcolor": "white",
             "startlinecolor": "#2a3f5f"
            },
            "type": "carpet"
           }
          ],
          "choropleth": [
           {
            "colorbar": {
             "outlinewidth": 0,
             "ticks": ""
            },
            "type": "choropleth"
           }
          ],
          "contour": [
           {
            "colorbar": {
             "outlinewidth": 0,
             "ticks": ""
            },
            "colorscale": [
             [
              0,
              "#0d0887"
             ],
             [
              0.1111111111111111,
              "#46039f"
             ],
             [
              0.2222222222222222,
              "#7201a8"
             ],
             [
              0.3333333333333333,
              "#9c179e"
             ],
             [
              0.4444444444444444,
              "#bd3786"
             ],
             [
              0.5555555555555556,
              "#d8576b"
             ],
             [
              0.6666666666666666,
              "#ed7953"
             ],
             [
              0.7777777777777778,
              "#fb9f3a"
             ],
             [
              0.8888888888888888,
              "#fdca26"
             ],
             [
              1,
              "#f0f921"
             ]
            ],
            "type": "contour"
           }
          ],
          "contourcarpet": [
           {
            "colorbar": {
             "outlinewidth": 0,
             "ticks": ""
            },
            "type": "contourcarpet"
           }
          ],
          "heatmap": [
           {
            "colorbar": {
             "outlinewidth": 0,
             "ticks": ""
            },
            "colorscale": [
             [
              0,
              "#0d0887"
             ],
             [
              0.1111111111111111,
              "#46039f"
             ],
             [
              0.2222222222222222,
              "#7201a8"
             ],
             [
              0.3333333333333333,
              "#9c179e"
             ],
             [
              0.4444444444444444,
              "#bd3786"
             ],
             [
              0.5555555555555556,
              "#d8576b"
             ],
             [
              0.6666666666666666,
              "#ed7953"
             ],
             [
              0.7777777777777778,
              "#fb9f3a"
             ],
             [
              0.8888888888888888,
              "#fdca26"
             ],
             [
              1,
              "#f0f921"
             ]
            ],
            "type": "heatmap"
           }
          ],
          "heatmapgl": [
           {
            "colorbar": {
             "outlinewidth": 0,
             "ticks": ""
            },
            "colorscale": [
             [
              0,
              "#0d0887"
             ],
             [
              0.1111111111111111,
              "#46039f"
             ],
             [
              0.2222222222222222,
              "#7201a8"
             ],
             [
              0.3333333333333333,
              "#9c179e"
             ],
             [
              0.4444444444444444,
              "#bd3786"
             ],
             [
              0.5555555555555556,
              "#d8576b"
             ],
             [
              0.6666666666666666,
              "#ed7953"
             ],
             [
              0.7777777777777778,
              "#fb9f3a"
             ],
             [
              0.8888888888888888,
              "#fdca26"
             ],
             [
              1,
              "#f0f921"
             ]
            ],
            "type": "heatmapgl"
           }
          ],
          "histogram": [
           {
            "marker": {
             "pattern": {
              "fillmode": "overlay",
              "size": 10,
              "solidity": 0.2
             }
            },
            "type": "histogram"
           }
          ],
          "histogram2d": [
           {
            "colorbar": {
             "outlinewidth": 0,
             "ticks": ""
            },
            "colorscale": [
             [
              0,
              "#0d0887"
             ],
             [
              0.1111111111111111,
              "#46039f"
             ],
             [
              0.2222222222222222,
              "#7201a8"
             ],
             [
              0.3333333333333333,
              "#9c179e"
             ],
             [
              0.4444444444444444,
              "#bd3786"
             ],
             [
              0.5555555555555556,
              "#d8576b"
             ],
             [
              0.6666666666666666,
              "#ed7953"
             ],
             [
              0.7777777777777778,
              "#fb9f3a"
             ],
             [
              0.8888888888888888,
              "#fdca26"
             ],
             [
              1,
              "#f0f921"
             ]
            ],
            "type": "histogram2d"
           }
          ],
          "histogram2dcontour": [
           {
            "colorbar": {
             "outlinewidth": 0,
             "ticks": ""
            },
            "colorscale": [
             [
              0,
              "#0d0887"
             ],
             [
              0.1111111111111111,
              "#46039f"
             ],
             [
              0.2222222222222222,
              "#7201a8"
             ],
             [
              0.3333333333333333,
              "#9c179e"
             ],
             [
              0.4444444444444444,
              "#bd3786"
             ],
             [
              0.5555555555555556,
              "#d8576b"
             ],
             [
              0.6666666666666666,
              "#ed7953"
             ],
             [
              0.7777777777777778,
              "#fb9f3a"
             ],
             [
              0.8888888888888888,
              "#fdca26"
             ],
             [
              1,
              "#f0f921"
             ]
            ],
            "type": "histogram2dcontour"
           }
          ],
          "mesh3d": [
           {
            "colorbar": {
             "outlinewidth": 0,
             "ticks": ""
            },
            "type": "mesh3d"
           }
          ],
          "parcoords": [
           {
            "line": {
             "colorbar": {
              "outlinewidth": 0,
              "ticks": ""
             }
            },
            "type": "parcoords"
           }
          ],
          "pie": [
           {
            "automargin": true,
            "type": "pie"
           }
          ],
          "scatter": [
           {
            "fillpattern": {
             "fillmode": "overlay",
             "size": 10,
             "solidity": 0.2
            },
            "type": "scatter"
           }
          ],
          "scatter3d": [
           {
            "line": {
             "colorbar": {
              "outlinewidth": 0,
              "ticks": ""
             }
            },
            "marker": {
             "colorbar": {
              "outlinewidth": 0,
              "ticks": ""
             }
            },
            "type": "scatter3d"
           }
          ],
          "scattercarpet": [
           {
            "marker": {
             "colorbar": {
              "outlinewidth": 0,
              "ticks": ""
             }
            },
            "type": "scattercarpet"
           }
          ],
          "scattergeo": [
           {
            "marker": {
             "colorbar": {
              "outlinewidth": 0,
              "ticks": ""
             }
            },
            "type": "scattergeo"
           }
          ],
          "scattergl": [
           {
            "marker": {
             "colorbar": {
              "outlinewidth": 0,
              "ticks": ""
             }
            },
            "type": "scattergl"
           }
          ],
          "scattermapbox": [
           {
            "marker": {
             "colorbar": {
              "outlinewidth": 0,
              "ticks": ""
             }
            },
            "type": "scattermapbox"
           }
          ],
          "scatterpolar": [
           {
            "marker": {
             "colorbar": {
              "outlinewidth": 0,
              "ticks": ""
             }
            },
            "type": "scatterpolar"
           }
          ],
          "scatterpolargl": [
           {
            "marker": {
             "colorbar": {
              "outlinewidth": 0,
              "ticks": ""
             }
            },
            "type": "scatterpolargl"
           }
          ],
          "scatterternary": [
           {
            "marker": {
             "colorbar": {
              "outlinewidth": 0,
              "ticks": ""
             }
            },
            "type": "scatterternary"
           }
          ],
          "surface": [
           {
            "colorbar": {
             "outlinewidth": 0,
             "ticks": ""
            },
            "colorscale": [
             [
              0,
              "#0d0887"
             ],
             [
              0.1111111111111111,
              "#46039f"
             ],
             [
              0.2222222222222222,
              "#7201a8"
             ],
             [
              0.3333333333333333,
              "#9c179e"
             ],
             [
              0.4444444444444444,
              "#bd3786"
             ],
             [
              0.5555555555555556,
              "#d8576b"
             ],
             [
              0.6666666666666666,
              "#ed7953"
             ],
             [
              0.7777777777777778,
              "#fb9f3a"
             ],
             [
              0.8888888888888888,
              "#fdca26"
             ],
             [
              1,
              "#f0f921"
             ]
            ],
            "type": "surface"
           }
          ],
          "table": [
           {
            "cells": {
             "fill": {
              "color": "#EBF0F8"
             },
             "line": {
              "color": "white"
             }
            },
            "header": {
             "fill": {
              "color": "#C8D4E3"
             },
             "line": {
              "color": "white"
             }
            },
            "type": "table"
           }
          ]
         },
         "layout": {
          "annotationdefaults": {
           "arrowcolor": "#2a3f5f",
           "arrowhead": 0,
           "arrowwidth": 1
          },
          "autotypenumbers": "strict",
          "coloraxis": {
           "colorbar": {
            "outlinewidth": 0,
            "ticks": ""
           }
          },
          "colorscale": {
           "diverging": [
            [
             0,
             "#8e0152"
            ],
            [
             0.1,
             "#c51b7d"
            ],
            [
             0.2,
             "#de77ae"
            ],
            [
             0.3,
             "#f1b6da"
            ],
            [
             0.4,
             "#fde0ef"
            ],
            [
             0.5,
             "#f7f7f7"
            ],
            [
             0.6,
             "#e6f5d0"
            ],
            [
             0.7,
             "#b8e186"
            ],
            [
             0.8,
             "#7fbc41"
            ],
            [
             0.9,
             "#4d9221"
            ],
            [
             1,
             "#276419"
            ]
           ],
           "sequential": [
            [
             0,
             "#0d0887"
            ],
            [
             0.1111111111111111,
             "#46039f"
            ],
            [
             0.2222222222222222,
             "#7201a8"
            ],
            [
             0.3333333333333333,
             "#9c179e"
            ],
            [
             0.4444444444444444,
             "#bd3786"
            ],
            [
             0.5555555555555556,
             "#d8576b"
            ],
            [
             0.6666666666666666,
             "#ed7953"
            ],
            [
             0.7777777777777778,
             "#fb9f3a"
            ],
            [
             0.8888888888888888,
             "#fdca26"
            ],
            [
             1,
             "#f0f921"
            ]
           ],
           "sequentialminus": [
            [
             0,
             "#0d0887"
            ],
            [
             0.1111111111111111,
             "#46039f"
            ],
            [
             0.2222222222222222,
             "#7201a8"
            ],
            [
             0.3333333333333333,
             "#9c179e"
            ],
            [
             0.4444444444444444,
             "#bd3786"
            ],
            [
             0.5555555555555556,
             "#d8576b"
            ],
            [
             0.6666666666666666,
             "#ed7953"
            ],
            [
             0.7777777777777778,
             "#fb9f3a"
            ],
            [
             0.8888888888888888,
             "#fdca26"
            ],
            [
             1,
             "#f0f921"
            ]
           ]
          },
          "colorway": [
           "#636efa",
           "#EF553B",
           "#00cc96",
           "#ab63fa",
           "#FFA15A",
           "#19d3f3",
           "#FF6692",
           "#B6E880",
           "#FF97FF",
           "#FECB52"
          ],
          "font": {
           "color": "#2a3f5f"
          },
          "geo": {
           "bgcolor": "white",
           "lakecolor": "white",
           "landcolor": "#E5ECF6",
           "showlakes": true,
           "showland": true,
           "subunitcolor": "white"
          },
          "hoverlabel": {
           "align": "left"
          },
          "hovermode": "closest",
          "mapbox": {
           "style": "light"
          },
          "paper_bgcolor": "white",
          "plot_bgcolor": "#E5ECF6",
          "polar": {
           "angularaxis": {
            "gridcolor": "white",
            "linecolor": "white",
            "ticks": ""
           },
           "bgcolor": "#E5ECF6",
           "radialaxis": {
            "gridcolor": "white",
            "linecolor": "white",
            "ticks": ""
           }
          },
          "scene": {
           "xaxis": {
            "backgroundcolor": "#E5ECF6",
            "gridcolor": "white",
            "gridwidth": 2,
            "linecolor": "white",
            "showbackground": true,
            "ticks": "",
            "zerolinecolor": "white"
           },
           "yaxis": {
            "backgroundcolor": "#E5ECF6",
            "gridcolor": "white",
            "gridwidth": 2,
            "linecolor": "white",
            "showbackground": true,
            "ticks": "",
            "zerolinecolor": "white"
           },
           "zaxis": {
            "backgroundcolor": "#E5ECF6",
            "gridcolor": "white",
            "gridwidth": 2,
            "linecolor": "white",
            "showbackground": true,
            "ticks": "",
            "zerolinecolor": "white"
           }
          },
          "shapedefaults": {
           "line": {
            "color": "#2a3f5f"
           }
          },
          "ternary": {
           "aaxis": {
            "gridcolor": "white",
            "linecolor": "white",
            "ticks": ""
           },
           "baxis": {
            "gridcolor": "white",
            "linecolor": "white",
            "ticks": ""
           },
           "bgcolor": "#E5ECF6",
           "caxis": {
            "gridcolor": "white",
            "linecolor": "white",
            "ticks": ""
           }
          },
          "title": {
           "x": 0.05
          },
          "xaxis": {
           "automargin": true,
           "gridcolor": "white",
           "linecolor": "white",
           "ticks": "",
           "title": {
            "standoff": 15
           },
           "zerolinecolor": "white",
           "zerolinewidth": 2
          },
          "yaxis": {
           "automargin": true,
           "gridcolor": "white",
           "linecolor": "white",
           "ticks": "",
           "title": {
            "standoff": 15
           },
           "zerolinecolor": "white",
           "zerolinewidth": 2
          }
         }
        },
        "title": {
         "text": "SARIMAX forecasting"
        },
        "xaxis": {
         "autorange": true,
         "range": [
          "2014-12-31 23:30",
          "2015-01-01 23:30"
         ],
         "title": {
          "text": "Time [h]"
         },
         "type": "date"
        },
        "yaxis": {
         "autorange": true,
         "range": [
          -899.349283231609,
          7574.839435959559
         ],
         "title": {
          "text": "Energy [Wh]"
         },
         "type": "linear"
        }
       }
      },
      "image/png": "[encoded data removed]",
      "text/html": [
       "<div>                            <div id=\"881f09d7-8426-48e8-bba7-3d6eddc84b29\" class=\"plotly-graph-div\" style=\"height:525px; width:100%;\"></div>            <script type=\"text/javascript\">                require([\"plotly\"], function(Plotly) {                    window.PLOTLYENV=window.PLOTLYENV || {};                                    if (document.getElementById(\"881f09d7-8426-48e8-bba7-3d6eddc84b29\")) {                    Plotly.newPlot(                        \"881f09d7-8426-48e8-bba7-3d6eddc84b29\",                        [{\"name\":\"Y_True\",\"opacity\":0.7,\"x\":[\"2015-01-01T00:00:00\",\"2015-01-01T01:00:00\",\"2015-01-01T02:00:00\",\"2015-01-01T03:00:00\",\"2015-01-01T04:00:00\",\"2015-01-01T05:00:00\",\"2015-01-01T06:00:00\",\"2015-01-01T07:00:00\",\"2015-01-01T08:00:00\",\"2015-01-01T09:00:00\",\"2015-01-01T10:00:00\",\"2015-01-01T11:00:00\",\"2015-01-01T12:00:00\",\"2015-01-01T13:00:00\",\"2015-01-01T14:00:00\",\"2015-01-01T15:00:00\",\"2015-01-01T16:00:00\",\"2015-01-01T17:00:00\",\"2015-01-01T18:00:00\",\"2015-01-01T19:00:00\",\"2015-01-01T20:00:00\",\"2015-01-01T21:00:00\",\"2015-01-01T22:00:00\",\"2015-01-01T23:00:00\"],\"y\":[0.0,0.0,0.0,0.0,0.0,0.0,29.953,1478.744,4976.13,7151.13,5632.78,6466.9,6161.19,6476.27,6453.72,4299.94,2388.05,322.11,0.024,0.0,0.0,0.0,0.0,0.0],\"type\":\"bar\"},{\"name\":\"Y_Pred\",\"opacity\":0.7,\"x\":[\"2015-01-01T00:00:00\",\"2015-01-01T01:00:00\",\"2015-01-01T02:00:00\",\"2015-01-01T03:00:00\",\"2015-01-01T04:00:00\",\"2015-01-01T05:00:00\",\"2015-01-01T06:00:00\",\"2015-01-01T07:00:00\",\"2015-01-01T08:00:00\",\"2015-01-01T09:00:00\",\"2015-01-01T10:00:00\",\"2015-01-01T11:00:00\",\"2015-01-01T12:00:00\",\"2015-01-01T13:00:00\",\"2015-01-01T14:00:00\",\"2015-01-01T15:00:00\",\"2015-01-01T16:00:00\",\"2015-01-01T17:00:00\",\"2015-01-01T18:00:00\",\"2015-01-01T19:00:00\",\"2015-01-01T20:00:00\",\"2015-01-01T21:00:00\",\"2015-01-01T22:00:00\",\"2015-01-01T23:00:00\"],\"y\":[0.0,0.0,0.0,0.0,0.0,0.0,0.0,85.96808444078323,687.8423228936963,2753.550190468197,5152.431361795108,6459.935005395868,6603.277908852895,6128.758944460905,4350.895621212323,2160.907841248367,-475.63984727205064,-116.01220424053724,42.139754005927585,23.69039671258337,7.1750355539322435,1.5518209284249314,0.22044981315739615,0.000856274098666471],\"type\":\"bar\"}],                        {\"template\":{\"data\":{\"histogram2dcontour\":[{\"type\":\"histogram2dcontour\",\"colorbar\":{\"outlinewidth\":0,\"ticks\":\"\"},\"colorscale\":[[0.0,\"#0d0887\"],[0.1111111111111111,\"#46039f\"],[0.2222222222222222,\"#7201a8\"],[0.3333333333333333,\"#9c179e\"],[0.4444444444444444,\"#bd3786\"],[0.5555555555555556,\"#d8576b\"],[0.6666666666666666,\"#ed7953\"],[0.7777777777777778,\"#fb9f3a\"],[0.8888888888888888,\"#fdca26\"],[1.0,\"#f0f921\"]]}],\"choropleth\":[{\"type\":\"choropleth\",\"colorbar\":{\"outlinewidth\":0,\"ticks\":\"\"}}],\"histogram2d\":[{\"type\":\"histogram2d\",\"colorbar\":{\"outlinewidth\":0,\"ticks\":\"\"},\"colorscale\":[[0.0,\"#0d0887\"],[0.1111111111111111,\"#46039f\"],[0.2222222222222222,\"#7201a8\"],[0.3333333333333333,\"#9c179e\"],[0.4444444444444444,\"#bd3786\"],[0.5555555555555556,\"#d8576b\"],[0.6666666666666666,\"#ed7953\"],[0.7777777777777778,\"#fb9f3a\"],[0.8888888888888888,\"#fdca26\"],[1.0,\"#f0f921\"]]}],\"heatmap\":[{\"type\":\"heatmap\",\"colorbar\":{\"outlinewidth\":0,\"ticks\":\"\"},\"colorscale\":[[0.0,\"#0d0887\"],[0.1111111111111111,\"#46039f\"],[0.2222222222222222,\"#7201a8\"],[0.3333333333333333,\"#9c179e\"],[0.4444444444444444,\"#bd3786\"],[0.5555555555555556,\"#d8576b\"],[0.6666666666666666,\"#ed7953\"],[0.7777777777777778,\"#fb9f3a\"],[0.8888888888888888,\"#fdca26\"],[1.0,\"#f0f921\"]]}],\"heatmapgl\":[{\"type\":\"heatmapgl\",\"colorbar\":{\"outlinewidth\":0,\"ticks\":\"\"},\"colorscale\":[[0.0,\"#0d0887\"],[0.1111111111111111,\"#46039f\"],[0.2222222222222222,\"#7201a8\"],[0.3333333333333333,\"#9c179e\"],[0.4444444444444444,\"#bd3786\"],[0.5555555555555556,\"#d8576b\"],[0.6666666666666666,\"#ed7953\"],[0.7777777777777778,\"#fb9f3a\"],[0.8888888888888888,\"#fdca26\"],[1.0,\"#f0f921\"]]}],\"contourcarpet\":[{\"type\":\"contourcarpet\",\"colorbar\":{\"outlinewidth\":0,\"ticks\":\"\"}}],\"contour\":[{\"type\":\"contour\",\"colorbar\":{\"outlinewidth\":0,\"ticks\":\"\"},\"colorscale\":[[0.0,\"#0d0887\"],[0.1111111111111111,\"#46039f\"],[0.2222222222222222,\"#7201a8\"],[0.3333333333333333,\"#9c179e\"],[0.4444444444444444,\"#bd3786\"],[0.5555555555555556,\"#d8576b\"],[0.6666666666666666,\"#ed7953\"],[0.7777777777777778,\"#fb9f3a\"],[0.8888888888888888,\"#fdca26\"],[1.0,\"#f0f921\"]]}],\"surface\":[{\"type\":\"surface\",\"colorbar\":{\"outlinewidth\":0,\"ticks\":\"\"},\"colorscale\":[[0.0,\"#0d0887\"],[0.1111111111111111,\"#46039f\"],[0.2222222222222222,\"#7201a8\"],[0.3333333333333333,\"#9c179e\"],[0.4444444444444444,\"#bd3786\"],[0.5555555555555556,\"#d8576b\"],[0.6666666666666666,\"#ed7953\"],[0.7777777777777778,\"#fb9f3a\"],[0.8888888888888888,\"#fdca26\"],[1.0,\"#f0f921\"]]}],\"mesh3d\":[{\"type\":\"mesh3d\",\"colorbar\":{\"outlinewidth\":0,\"ticks\":\"\"}}],\"scatter\":[{\"fillpattern\":{\"fillmode\":\"overlay\",\"size\":10,\"solidity\":0.2},\"type\":\"scatter\"}],\"parcoords\":[{\"type\":\"parcoords\",\"line\":{\"colorbar\":{\"outlinewidth\":0,\"ticks\":\"\"}}}],\"scatterpolargl\":[{\"type\":\"scatterpolargl\",\"marker\":{\"colorbar\":{\"outlinewidth\":0,\"ticks\":\"\"}}}],\"bar\":[{\"error_x\":{\"color\":\"#2a3f5f\"},\"error_y\":{\"color\":\"#2a3f5f\"},\"marker\":{\"line\":{\"color\":\"#E5ECF6\",\"width\":0.5},\"pattern\":{\"fillmode\":\"overlay\",\"size\":10,\"solidity\":0.2}},\"type\":\"bar\"}],\"scattergeo\":[{\"type\":\"scattergeo\",\"marker\":{\"colorbar\":{\"outlinewidth\":0,\"ticks\":\"\"}}}],\"scatterpolar\":[{\"type\":\"scatterpolar\",\"marker\":{\"colorbar\":{\"outlinewidth\":0,\"ticks\":\"\"}}}],\"histogram\":[{\"marker\":{\"pattern\":{\"fillmode\":\"overlay\",\"size\":10,\"solidity\":0.2}},\"type\":\"histogram\"}],\"scattergl\":[{\"type\":\"scattergl\",\"marker\":{\"colorbar\":{\"outlinewidth\":0,\"ticks\":\"\"}}}],\"scatter3d\":[{\"type\":\"scatter3d\",\"line\":{\"colorbar\":{\"outlinewidth\":0,\"ticks\":\"\"}},\"marker\":{\"colorbar\":{\"outlinewidth\":0,\"ticks\":\"\"}}}],\"scattermapbox\":[{\"type\":\"scattermapbox\",\"marker\":{\"colorbar\":{\"outlinewidth\":0,\"ticks\":\"\"}}}],\"scatterternary\":[{\"type\":\"scatterternary\",\"marker\":{\"colorbar\":{\"outlinewidth\":0,\"ticks\":\"\"}}}],\"scattercarpet\":[{\"type\":\"scattercarpet\",\"marker\":{\"colorbar\":{\"outlinewidth\":0,\"ticks\":\"\"}}}],\"carpet\":[{\"aaxis\":{\"endlinecolor\":\"#2a3f5f\",\"gridcolor\":\"white\",\"linecolor\":\"white\",\"minorgridcolor\":\"white\",\"startlinecolor\":\"#2a3f5f\"},\"baxis\":{\"endlinecolor\":\"#2a3f5f\",\"gridcolor\":\"white\",\"linecolor\":\"white\",\"minorgridcolor\":\"white\",\"startlinecolor\":\"#2a3f5f\"},\"type\":\"carpet\"}],\"table\":[{\"cells\":{\"fill\":{\"color\":\"#EBF0F8\"},\"line\":{\"color\":\"white\"}},\"header\":{\"fill\":{\"color\":\"#C8D4E3\"},\"line\":{\"color\":\"white\"}},\"type\":\"table\"}],\"barpolar\":[{\"marker\":{\"line\":{\"color\":\"#E5ECF6\",\"width\":0.5},\"pattern\":{\"fillmode\":\"overlay\",\"size\":10,\"solidity\":0.2}},\"type\":\"barpolar\"}],\"pie\":[{\"automargin\":true,\"type\":\"pie\"}]},\"layout\":{\"autotypenumbers\":\"strict\",\"colorway\":[\"#636efa\",\"#EF553B\",\"#00cc96\",\"#ab63fa\",\"#FFA15A\",\"#19d3f3\",\"#FF6692\",\"#B6E880\",\"#FF97FF\",\"#FECB52\"],\"font\":{\"color\":\"#2a3f5f\"},\"hovermode\":\"closest\",\"hoverlabel\":{\"align\":\"left\"},\"paper_bgcolor\":\"white\",\"plot_bgcolor\":\"#E5ECF6\",\"polar\":{\"bgcolor\":\"#E5ECF6\",\"angularaxis\":{\"gridcolor\":\"white\",\"linecolor\":\"white\",\"ticks\":\"\"},\"radialaxis\":{\"gridcolor\":\"white\",\"linecolor\":\"white\",\"ticks\":\"\"}},\"ternary\":{\"bgcolor\":\"#E5ECF6\",\"aaxis\":{\"gridcolor\":\"white\",\"linecolor\":\"white\",\"ticks\":\"\"},\"baxis\":{\"gridcolor\":\"white\",\"linecolor\":\"white\",\"ticks\":\"\"},\"caxis\":{\"gridcolor\":\"white\",\"linecolor\":\"white\",\"ticks\":\"\"}},\"coloraxis\":{\"colorbar\":{\"outlinewidth\":0,\"ticks\":\"\"}},\"colorscale\":{\"sequential\":[[0.0,\"#0d0887\"],[0.1111111111111111,\"#46039f\"],[0.2222222222222222,\"#7201a8\"],[0.3333333333333333,\"#9c179e\"],[0.4444444444444444,\"#bd3786\"],[0.5555555555555556,\"#d8576b\"],[0.6666666666666666,\"#ed7953\"],[0.7777777777777778,\"#fb9f3a\"],[0.8888888888888888,\"#fdca26\"],[1.0,\"#f0f921\"]],\"sequentialminus\":[[0.0,\"#0d0887\"],[0.1111111111111111,\"#46039f\"],[0.2222222222222222,\"#7201a8\"],[0.3333333333333333,\"#9c179e\"],[0.4444444444444444,\"#bd3786\"],[0.5555555555555556,\"#d8576b\"],[0.6666666666666666,\"#ed7953\"],[0.7777777777777778,\"#fb9f3a\"],[0.8888888888888888,\"#fdca26\"],[1.0,\"#f0f921\"]],\"diverging\":[[0,\"#8e0152\"],[0.1,\"#c51b7d\"],[0.2,\"#de77ae\"],[0.3,\"#f1b6da\"],[0.4,\"#fde0ef\"],[0.5,\"#f7f7f7\"],[0.6,\"#e6f5d0\"],[0.7,\"#b8e186\"],[0.8,\"#7fbc41\"],[0.9,\"#4d9221\"],[1,\"#276419\"]]},\"xaxis\":{\"gridcolor\":\"white\",\"linecolor\":\"white\",\"ticks\":\"\",\"title\":{\"standoff\":15},\"zerolinecolor\":\"white\",\"automargin\":true,\"zerolinewidth\":2},\"yaxis\":{\"gridcolor\":\"white\",\"linecolor\":\"white\",\"ticks\":\"\",\"title\":{\"standoff\":15},\"zerolinecolor\":\"white\",\"automargin\":true,\"zerolinewidth\":2},\"scene\":{\"xaxis\":{\"backgroundcolor\":\"#E5ECF6\",\"gridcolor\":\"white\",\"linecolor\":\"white\",\"showbackground\":true,\"ticks\":\"\",\"zerolinecolor\":\"white\",\"gridwidth\":2},\"yaxis\":{\"backgroundcolor\":\"#E5ECF6\",\"gridcolor\":\"white\",\"linecolor\":\"white\",\"showbackground\":true,\"ticks\":\"\",\"zerolinecolor\":\"white\",\"gridwidth\":2},\"zaxis\":{\"backgroundcolor\":\"#E5ECF6\",\"gridcolor\":\"white\",\"linecolor\":\"white\",\"showbackground\":true,\"ticks\":\"\",\"zerolinecolor\":\"white\",\"gridwidth\":2}},\"shapedefaults\":{\"line\":{\"color\":\"#2a3f5f\"}},\"annotationdefaults\":{\"arrowcolor\":\"#2a3f5f\",\"arrowhead\":0,\"arrowwidth\":1},\"geo\":{\"bgcolor\":\"white\",\"landcolor\":\"#E5ECF6\",\"subunitcolor\":\"white\",\"showland\":true,\"showlakes\":true,\"lakecolor\":\"white\"},\"title\":{\"x\":0.05},\"mapbox\":{\"style\":\"light\"}}},\"barmode\":\"overlay\",\"title\":{\"text\":\"SARIMAX forecasting\"},\"xaxis\":{\"title\":{\"text\":\"Time [h]\"}},\"yaxis\":{\"title\":{\"text\":\"Energy [Wh]\"}}},                        {\"responsive\": true}                    ).then(function(){\n",
       "                            \n",
       "var gd = document.getElementById('881f09d7-8426-48e8-bba7-3d6eddc84b29');\n",
       "var x = new MutationObserver(function (mutations, observer) {{\n",
       "        var display = window.getComputedStyle(gd).display;\n",
       "        if (!display || display === 'none') {{\n",
       "            console.log([gd, 'removed!']);\n",
       "            Plotly.purge(gd);\n",
       "            observer.disconnect();\n",
       "        }}\n",
       "}});\n",
       "\n",
       "// Listen for the removal of the full notebook cells\n",
       "var notebookContainer = gd.closest('#notebook-container');\n",
       "if (notebookContainer) {{\n",
       "    x.observe(notebookContainer, {childList: true});\n",
       "}}\n",
       "\n",
       "// Listen for the clearing of the current output cell\n",
       "var outputEl = gd.closest('.output');\n",
       "if (outputEl) {{\n",
       "    x.observe(outputEl, {childList: true});\n",
       "}}\n",
       "\n",
       "                        })                };                });            </script>        </div>"
      ]
     },
     "metadata": {},
     "output_type": "display_data"
    }
   ],
   "source": [
    "#ONE DAY PRED\n",
    "print(\"ONE DAY SARMAX eval.....\")\n",
    "test_size = 24\n",
    "start_time = time.time()\n",
    "predictions = sarima.predict(\n",
    "        exog=exogenous_test[:test_size],\n",
    "        start=0, end=test_size-1)\n",
    "end_time = time.time()\n",
    "print(f\"EVAL TIME[s]: {end_time-start_time}\")\n",
    "\n",
    "results = pd.DataFrame().from_dict({\"Y_True\": test[:test_size], \"Y_Pred\": predictions})\n",
    "results.index = date_time[:test_size]\n",
    "print(results)\n",
    "show_result(results, \"SARIMAX forecasting\", \"Time [h]\", \"Energy [Wh]\", 'sarima/sarima_results.html')"
   ]
  },
  {
   "cell_type": "code",
   "execution_count": null,
   "id": "dd4918f3-1553-4810-a65c-05de718b8a0a",
   "metadata": {},
   "outputs": [],
   "source": []
  }
 ],
 "metadata": {
  "kernelspec": {
   "display_name": "sarimax",
   "language": "python",
   "name": "sarimax"
  },
  "language_info": {
   "codemirror_mode": {
    "name": "ipython",
    "version": 3
   },
   "file_extension": ".py",
   "mimetype": "text/x-python",
   "name": "python",
   "nbconvert_exporter": "python",
   "pygments_lexer": "ipython3",
   "version": "3.9.12"
  }
 },
 "nbformat": 4,
 "nbformat_minor": 5
}
