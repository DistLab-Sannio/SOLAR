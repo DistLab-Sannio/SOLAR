{
 "cells": [
  {
   "cell_type": "code",
   "execution_count": null,
   "id": "1b0dc4cf-532d-4a86-a177-2ac1d2f281d7",
   "metadata": {},
   "outputs": [],
   "source": [
    "# !pip uninstall plotly pandas protobuf==3.20.0 tensorflow==2.6.2 scikit-learn numpy\n",
    "# !pip install plotly pandas scikit-learn numpy statsmodels"
   ]
  },
  {
   "cell_type": "code",
   "execution_count": null,
   "id": "53461b39-a40e-4f25-a094-7b78f6784e63",
   "metadata": {},
   "outputs": [],
   "source": [
    "from sklearn.model_selection import TimeSeriesSplit\n",
    "from sklearn.metrics import mean_absolute_error\n",
    "import statsmodels.api as sm\n",
    "import plotly.express as px\n",
    "import pandas as pd\n",
    "import numpy as np\n",
    "from data_util_common import canopy_dataset"
   ]
  },
  {
   "cell_type": "code",
   "execution_count": null,
   "id": "2db4cb43-62f2-405c-a123-bce26124ab58",
   "metadata": {
    "editable": true,
    "slideshow": {
     "slide_type": ""
    },
    "tags": []
   },
   "outputs": [],
   "source": [
    "if __name__ == '__main__':\n",
    "    T = 24\n",
    "    data, date, time, label = canopy_dataset()\n",
    "    print(data.columns)\n",
    "    data = data[[label, 'Irradiance_1_Wm2']]\n",
    "    date_time = data.index\n",
    "    timestamp = data.index\n",
    "    data.reset_index(inplace=True, drop=True)\n",
    "\n",
    "    T = 24 * 7\n",
    "    past = T\n",
    "    future = T\n",
    "    step = 1\n",
    "\n",
    "    X = [data.iloc[i:i+T, :] for i in range(0, len(data.index)-T, T)]\n",
    "    timestamp = [timestamp[i:i+T] for i in range(0, len(data.index)-T, T)]\n",
    "\n",
    "    mae = []\n",
    "\n",
    "    tscv = TimeSeriesSplit(gap=0, n_splits=12)\n",
    "    for i, (train_index, test_index) in enumerate(tscv.split(X)):\n",
    "        print(f\"Fold {i}:\")\n",
    "\n",
    "        train_data = np.asarray([X[t] for t in train_index])\n",
    "        train_data = train_data.reshape((T * len(train_index), 2))\n",
    "\n",
    "        train_timestamp = np.asarray([timestamp[t] for t in train_index])\n",
    "        train_timestamp = train_timestamp.reshape((T * len(train_timestamp), 1))\n",
    "        train_timestamp = pd.to_datetime(train_timestamp, format='%Y-%m-%d %H:%M:%S')\n",
    "\n",
    "        test_data = np.asarray([X[t] for t in test_index])\n",
    "        test_data = test_data.reshape((T * len(test_index), 2))\n",
    "\n",
    "        print(f\"TRAIN - LEN {len(train_data)}\")\n",
    "\n",
    "        print(f\"TRAIN SIZE {len(train_data)} TEST SIZE {len(test_data)}\")\n",
    "        train = train_data[:, 0]\n",
    "        exogenous_train = train_data[:, 1]\n",
    "\n",
    "        test = test_data[:, 0]\n",
    "        exogenous_test = test_data[:, 1]\n",
    "\n",
    "        order = (2, 0, 2)  # (p, d, q)\n",
    "        seasonal_order = (1, 0, 1, T)  # (P, D, Q, s)\n",
    "        sarima = sm.tsa.SARIMAX(endog=train,\n",
    "                                exog=exogenous_train,\n",
    "                                order=order,\n",
    "                                seasonal_order=seasonal_order,\n",
    "                                initialization='approximate_diffuse',\n",
    "                                method='cg'\n",
    "                                ).fit(low_memory=True)\n",
    "\n",
    "        predictions = sarima.predict(exog=exogenous_test,\n",
    "                                     start=len(train), end=len(train)+len(test)-1)\n",
    "        print(sarima.summary())\n",
    "\n",
    "        mae.append(mean_absolute_error(test, predictions))\n",
    "\n",
    "    print(\"MAE: {}\".format(np.mean(mae)))\n",
    "    with open('sarima/sarima_cavl_mae.npy', 'wb') as f:\n",
    "        np.save(f, mae)\n",
    "\n",
    "    fig = px.box(np.asarray(mae))\n",
    "    fig.show()"
   ]
  },
  {
   "cell_type": "code",
   "execution_count": null,
   "id": "8dd12a4b-2ca5-4865-ba35-644091a25e1b",
   "metadata": {},
   "outputs": [],
   "source": []
  }
 ],
 "metadata": {
  "kernelspec": {
   "name": "python3",
   "language": "python",
   "display_name": "Python 3 (ipykernel)"
  },
  "language_info": {
   "codemirror_mode": {
    "name": "ipython",
    "version": 3
   },
   "file_extension": ".py",
   "mimetype": "text/x-python",
   "name": "python",
   "nbconvert_exporter": "python",
   "pygments_lexer": "ipython3",
   "version": "3.9.12"
  }
 },
 "nbformat": 4,
 "nbformat_minor": 5
}
